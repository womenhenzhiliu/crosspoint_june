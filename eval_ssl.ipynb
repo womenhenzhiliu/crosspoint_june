{
 "cells": [
  {
   "cell_type": "code",
   "execution_count": 3,
   "id": "bb4a298f-71ef-4ef5-94b5-cfc6e35ff2d6",
   "metadata": {},
   "outputs": [],
   "source": [
    "import argparse\n",
    "import glob\n",
    "import random\n",
    "import numpy as np\n",
    "from sklearn.svm import SVC\n",
    "import matplotlib.pyplot as plt\n",
    "\n",
    "import torch\n",
    "from torch import nn\n",
    "from torch.utils.data import DataLoader\n",
    "import torch.nn.functional as F\n",
    "\n",
    "from datasets.data import *\n",
    "from datasets.plyfile import load_ply\n",
    "from models.dgcnn import DGCNN,  DGCNN_partseg\n",
    "\n",
    "parser = argparse.ArgumentParser(description='Point Cloud Recognition')\n",
    "parser.add_argument('--num_points', type=int, default=1024,\n",
    "                    help='num of points to use')\n",
    "parser.add_argument('--emb_dims', type=int, default=1024, metavar='N',\n",
    "                    help='Dimension of embeddings')\n",
    "parser.add_argument('--k', type=int, default=15, metavar='N',\n",
    "                        help='Num of nearest neighbors to use')\n",
    "parser.add_argument('--dropout', type=float, default=0.5,\n",
    "                        help='dropout rate')\n",
    "args = parser.parse_args(\"\")"
   ]
  },
  {
   "cell_type": "code",
   "execution_count": 13,
   "id": "cc7b0130-020b-4c92-9b4f-3c734bc2bd45",
   "metadata": {},
   "outputs": [],
   "source": [
    "device = torch.device(\"cuda\")\n",
    "net_self = torch.load('dgcnn_cls_best.pth')\n",
    "model_self = DGCNN(args).to(device)\n",
    "\n",
    "model_self.load_state_dict(net_self)"
   ]
  },
  {
   "cell_type": "markdown",
   "id": "64a570cb-d50d-4231-a40e-aa565b0c6eac",
   "metadata": {},
   "source": [
    "# ModelNet40"
   ]
  },
  {
   "cell_type": "code",
   "execution_count": 3,
   "id": "9f999b8d-d3b1-43ab-8910-d4f64ae4cb19",
   "metadata": {},
   "outputs": [
    {
     "name": "stdout",
     "output_type": "stream",
     "text": [
      "Done !!\n"
     ]
    }
   ],
   "source": [
    "train_loader = DataLoader(ModelNet40SVM(partition='train', num_points=args.num_points),\n",
    "                              batch_size=128, shuffle=True)\n",
    "test_loader = DataLoader(ModelNet40SVM(partition='test', num_points=args.num_points),\n",
    "                              batch_size=128, shuffle=True)\n",
    "print('Done !!')"
   ]
  },
  {
   "cell_type": "markdown",
   "id": "04c7743b-f0f9-4bcb-81e4-f8da2cf585ba",
   "metadata": {},
   "source": [
    "# ScanObjectNN"
   ]
  },
  {
   "cell_type": "code",
   "execution_count": 9,
   "id": "9d0dc924-2763-450d-b9b9-bcb171802f42",
   "metadata": {},
   "outputs": [
    {
     "name": "stdout",
     "output_type": "stream",
     "text": [
      "Done !!\n"
     ]
    }
   ],
   "source": [
    "train_loader = DataLoader(ScanObjectNNSVM(partition='train', num_points=args.num_points),\n",
    "                              batch_size=64, shuffle=True)\n",
    "test_loader = DataLoader(ScanObjectNNSVM(partition='test', num_points=args.num_points),\n",
    "                              batch_size=64, shuffle=True)\n",
    "print('Done !!')"
   ]
  },
  {
   "cell_type": "markdown",
   "id": "706ee9d8-6a97-452e-9987-8042eae5b90f",
   "metadata": {},
   "source": [
    "# Load Train Feats"
   ]
  },
  {
   "cell_type": "code",
   "execution_count": 10,
   "id": "89241966-45c3-45ec-a6d0-94e40cb8e0dd",
   "metadata": {},
   "outputs": [
    {
     "name": "stdout",
     "output_type": "stream",
     "text": [
      "(2309, 2048)\n",
      "[ 7 13  7 ...  3  7 10]\n"
     ]
    }
   ],
   "source": [
    "import random\n",
    "\n",
    "feats_train = []\n",
    "labels_train = []\n",
    "model = model_self.to(device)\n",
    "model = model.eval()\n",
    "\n",
    "dataset = \"ScanObjectNN\" # Choose Dataset [\"ModelNet40, ScanObjectNN\"]\n",
    "\n",
    "for i, (data, label) in enumerate(train_loader):\n",
    "    if dataset == \"ModelNet40\":\n",
    "        labels = list(map(lambda x: x[0],label.numpy().tolist()))\n",
    "    elif dataset == \"ScanObjectNN\":\n",
    "        labels = label.numpy().tolist()\n",
    "    data = data.permute(0, 2, 1).to(device)\n",
    "    with torch.no_grad():\n",
    "        feats = model(data)[2]\n",
    "    feats = feats.detach().cpu().numpy()\n",
    "    for feat in feats:\n",
    "        feats_train.append(feat)\n",
    "    labels_train += labels\n",
    "\n",
    "feats_train = np.array(feats_train)\n",
    "labels_train = np.array(labels_train)\n",
    "print(feats_train.shape)\n",
    "print(labels_train)"
   ]
  },
  {
   "cell_type": "markdown",
   "id": "84930173-3beb-4ed2-9efa-5a343f128df3",
   "metadata": {},
   "source": [
    "# Load Test Feats"
   ]
  },
  {
   "cell_type": "code",
   "execution_count": 11,
   "id": "8d1045cc-2a11-41b9-8a6c-b2851fa2c685",
   "metadata": {},
   "outputs": [
    {
     "data": {
      "text/plain": [
       "(581, 2048)"
      ]
     },
     "execution_count": 11,
     "metadata": {},
     "output_type": "execute_result"
    }
   ],
   "source": [
    "import random\n",
    "\n",
    "feats_test = []\n",
    "labels_test = []\n",
    "model = model_self.to(device)\n",
    "model = model.eval()\n",
    "\n",
    "for i, (data, label) in enumerate(test_loader):\n",
    "    if dataset == \"ModelNet40\":\n",
    "        labels = list(map(lambda x: x[0],label.numpy().tolist()))\n",
    "    elif dataset == \"ScanObjectNN\":\n",
    "        labels = label.numpy().tolist()\n",
    "    data = data.permute(0, 2, 1).to(device)\n",
    "    with torch.no_grad():\n",
    "        feats = model(data)[2]\n",
    "    feats = feats.detach().cpu().numpy()\n",
    "    for feat in feats:\n",
    "        feats_test.append(feat)\n",
    "    # labels_train.append(label)\n",
    "    labels_test += labels\n",
    "\n",
    "feats_test = np.array(feats_test)\n",
    "labels_test = np.array(labels_test)\n",
    "feats_test.shape"
   ]
  },
  {
   "cell_type": "markdown",
   "id": "33a1abab-94a9-42b2-ad9b-427acfcf12c3",
   "metadata": {
    "tags": []
   },
   "source": [
    "# Train Linear Model"
   ]
  },
  {
   "cell_type": "code",
   "execution_count": 12,
   "id": "b830ca46-9842-44bb-b703-90300f766463",
   "metadata": {},
   "outputs": [
    {
     "name": "stdout",
     "output_type": "stream",
     "text": [
      "C = 0.01 : 0.8123924268502581\n"
     ]
    }
   ],
   "source": [
    "c = 0.01 # Linear SVM parameter C, can be tuned\n",
    "model_tl = SVC(C = c, kernel ='linear')\n",
    "model_tl.fit(feats_train, labels_train)\n",
    "print(f\"C = {c} : {model_tl.score(feats_test, labels_test)}\")"
   ]
  },
  {
   "cell_type": "code",
   "execution_count": null,
   "id": "389250e0-9c3b-4524-a438-0c8754c3ae2e",
   "metadata": {},
   "outputs": [],
   "source": []
  }
 ],
 "metadata": {
  "kernelspec": {
   "display_name": "Python 3 (ipykernel)",
   "language": "python",
   "name": "python3"
  },
  "language_info": {
   "codemirror_mode": {
    "name": "ipython",
    "version": 3
   },
   "file_extension": ".py",
   "mimetype": "text/x-python",
   "name": "python",
   "nbconvert_exporter": "python",
   "pygments_lexer": "ipython3",
   "version": "3.9.12"
  }
 },
 "nbformat": 4,
 "nbformat_minor": 5
}
